{
 "cells": [
  {
   "cell_type": "code",
   "execution_count": 1,
   "id": "6591cf7e",
   "metadata": {},
   "outputs": [
    {
     "name": "stdout",
     "output_type": "stream",
     "text": [
      "Libraries imported and setup complete.\n"
     ]
    }
   ],
   "source": [
    "# Suppress warnings for cleaner output\n",
    "import warnings\n",
    "warnings.filterwarnings('ignore')\n",
    "\n",
    "# Data manipulation libraries\n",
    "import numpy as np\n",
    "import pandas as pd\n",
    "\n",
    "# Visualization libraries\n",
    "import matplotlib\n",
    "matplotlib.use('Agg')  # Ensure compatibility with non-interactive backends\n",
    "import matplotlib.pyplot as plt\n",
    "plt.switch_backend('Agg')  \n",
    "%matplotlib inline  \n",
    "\n",
    "import seaborn as sns\n",
    "\n",
    "# Machine Learning libraries\n",
    "from sklearn.model_selection import train_test_split\n",
    "from sklearn.linear_model import LogisticRegression\n",
    "from sklearn.metrics import accuracy_score, confusion_matrix, roc_curve, auc\n",
    "\n",
    "# For permutation importance\n",
    "from sklearn.inspection import permutation_importance\n",
    "\n",
    "# Set a style for seaborn plots\n",
    "sns.set(style='whitegrid')\n",
    "\n",
    "print('Libraries imported and setup complete.')"
   ]
  },
  {
   "cell_type": "code",
   "execution_count": null,
   "id": "c45501c1",
   "metadata": {},
   "outputs": [],
   "source": [
    "file_path = '/kaggle/input/credit-risk-benchmark-dataset/Credit Risk Benchmark Dataset.csv'\n",
    "df = pd.read_csv(file_path, encoding='ascii')\n",
    "\n",
    "# Quick look at the data structure\n",
    "print('Dataset shape:', df.shape)\n",
    "print('First few rows:')\n",
    "print(df.head())\n",
    "\n",
    "# Display data types\n",
    "print('\\nData types:')\n",
    "print(df.dtypes)"
   ]
  }
 ],
 "metadata": {
  "kernelspec": {
   "display_name": "base",
   "language": "python",
   "name": "python3"
  },
  "language_info": {
   "codemirror_mode": {
    "name": "ipython",
    "version": 3
   },
   "file_extension": ".py",
   "mimetype": "text/x-python",
   "name": "python",
   "nbconvert_exporter": "python",
   "pygments_lexer": "ipython3",
   "version": "3.12.7"
  }
 },
 "nbformat": 4,
 "nbformat_minor": 5
}
